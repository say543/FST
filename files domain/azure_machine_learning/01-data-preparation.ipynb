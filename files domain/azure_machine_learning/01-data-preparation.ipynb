{
 "cells": [
  {
   "source": [
    "In this notebook, we prepare a dataset to be used to show how to perform text classification by fine-tuning a BERT-based model.\n",
    "\n",
    "The data used here is obtained from the [Consumer Complaint Database](https://catalog.data.gov/dataset/consumer-complaint-database).\n",
    "\n",
    "We download the entire dataset as a CSV file into the *data* local folder and then read it into a pandas dataframe."
   ],
   "cell_type": "code",
   "metadata": {},
   "execution_count": null,
   "outputs": []
  },
  {
   "cell_type": "code",
   "execution_count": 50,
   "metadata": {},
   "outputs": [],
   "source": [
    "import pandas as pd\n",
    "\n",
    "#df1 = pd.read_csv('./data/consumer_complaint_data.csv')\n",
    "df1 = pd.read_csv('E:/azure_ml_notebook/azureml_data/complaints.csv')\n"
   ]
  },
  {
   "cell_type": "code",
   "execution_count": 51,
   "metadata": {
    "scrolled": false
   },
   "outputs": [
    {
     "output_type": "execute_result",
     "data": {
      "text/plain": [
       "  Date received                                            Product  \\\n",
       "0    2019-09-24                                    Debt collection   \n",
       "1    2020-09-25                                    Debt collection   \n",
       "2    2019-09-19  Credit reporting, credit repair services, or o...   \n",
       "3    2019-11-08                                    Debt collection   \n",
       "4    2020-09-21                                    Debt collection   \n",
       "\n",
       "        Sub-product                                 Issue  \\\n",
       "0     I do not know     Attempts to collect debt not owed   \n",
       "1     I do not know       Written notification about debt   \n",
       "2  Credit reporting  Incorrect information on your report   \n",
       "3     I do not know                 Communication tactics   \n",
       "4  Credit card debt     Attempts to collect debt not owed   \n",
       "\n",
       "                                          Sub-issue  \\\n",
       "0                                 Debt is not yours   \n",
       "1  Didn't receive enough information to verify debt   \n",
       "2               Information belongs to someone else   \n",
       "3                        Frequent or repeated calls   \n",
       "4                                 Debt is not yours   \n",
       "\n",
       "                        Consumer complaint narrative  \\\n",
       "0  transworld systems inc. \\nis trying to collect...   \n",
       "1                                                NaN   \n",
       "2                                                NaN   \n",
       "3  Over the past 2 weeks, I have been receiving e...   \n",
       "4                                                NaN   \n",
       "\n",
       "                             Company public response  \\\n",
       "0                                                NaN   \n",
       "1  Company believes it acted appropriately as aut...   \n",
       "2  Company has responded to the consumer and the ...   \n",
       "3                                                NaN   \n",
       "4                                                NaN   \n",
       "\n",
       "                               Company State ZIP code Tags  \\\n",
       "0               TRANSWORLD SYSTEMS INC    FL    335XX  NaN   \n",
       "1       Phoenix Financial Services LLC    FL    33853  NaN   \n",
       "2  Experian Information Solutions Inc.    PA    15206  NaN   \n",
       "3        Diversified Consultants, Inc.    NC    275XX  NaN   \n",
       "4      Resurgent Capital Services L.P.    MA    02124  NaN   \n",
       "\n",
       "  Consumer consent provided? Submitted via Date sent to company  \\\n",
       "0           Consent provided           Web           2019-09-24   \n",
       "1       Consent not provided           Web           2020-09-25   \n",
       "2       Consent not provided           Web           2019-09-20   \n",
       "3           Consent provided           Web           2019-11-08   \n",
       "4                        NaN           Web           2020-09-21   \n",
       "\n",
       "      Company response to consumer Timely response? Consumer disputed?  \\\n",
       "0          Closed with explanation              Yes                NaN   \n",
       "1          Closed with explanation              Yes                NaN   \n",
       "2  Closed with non-monetary relief              Yes                NaN   \n",
       "3          Closed with explanation              Yes                NaN   \n",
       "4          Closed with explanation              Yes                NaN   \n",
       "\n",
       "   Complaint ID  \n",
       "0       3384392  \n",
       "1       3866397  \n",
       "2       3379500  \n",
       "3       3433198  \n",
       "4       3857820  "
      ],
      "text/html": "<div>\n<style scoped>\n    .dataframe tbody tr th:only-of-type {\n        vertical-align: middle;\n    }\n\n    .dataframe tbody tr th {\n        vertical-align: top;\n    }\n\n    .dataframe thead th {\n        text-align: right;\n    }\n</style>\n<table border=\"1\" class=\"dataframe\">\n  <thead>\n    <tr style=\"text-align: right;\">\n      <th></th>\n      <th>Date received</th>\n      <th>Product</th>\n      <th>Sub-product</th>\n      <th>Issue</th>\n      <th>Sub-issue</th>\n      <th>Consumer complaint narrative</th>\n      <th>Company public response</th>\n      <th>Company</th>\n      <th>State</th>\n      <th>ZIP code</th>\n      <th>Tags</th>\n      <th>Consumer consent provided?</th>\n      <th>Submitted via</th>\n      <th>Date sent to company</th>\n      <th>Company response to consumer</th>\n      <th>Timely response?</th>\n      <th>Consumer disputed?</th>\n      <th>Complaint ID</th>\n    </tr>\n  </thead>\n  <tbody>\n    <tr>\n      <th>0</th>\n      <td>2019-09-24</td>\n      <td>Debt collection</td>\n      <td>I do not know</td>\n      <td>Attempts to collect debt not owed</td>\n      <td>Debt is not yours</td>\n      <td>transworld systems inc. \\nis trying to collect...</td>\n      <td>NaN</td>\n      <td>TRANSWORLD SYSTEMS INC</td>\n      <td>FL</td>\n      <td>335XX</td>\n      <td>NaN</td>\n      <td>Consent provided</td>\n      <td>Web</td>\n      <td>2019-09-24</td>\n      <td>Closed with explanation</td>\n      <td>Yes</td>\n      <td>NaN</td>\n      <td>3384392</td>\n    </tr>\n    <tr>\n      <th>1</th>\n      <td>2020-09-25</td>\n      <td>Debt collection</td>\n      <td>I do not know</td>\n      <td>Written notification about debt</td>\n      <td>Didn't receive enough information to verify debt</td>\n      <td>NaN</td>\n      <td>Company believes it acted appropriately as aut...</td>\n      <td>Phoenix Financial Services LLC</td>\n      <td>FL</td>\n      <td>33853</td>\n      <td>NaN</td>\n      <td>Consent not provided</td>\n      <td>Web</td>\n      <td>2020-09-25</td>\n      <td>Closed with explanation</td>\n      <td>Yes</td>\n      <td>NaN</td>\n      <td>3866397</td>\n    </tr>\n    <tr>\n      <th>2</th>\n      <td>2019-09-19</td>\n      <td>Credit reporting, credit repair services, or o...</td>\n      <td>Credit reporting</td>\n      <td>Incorrect information on your report</td>\n      <td>Information belongs to someone else</td>\n      <td>NaN</td>\n      <td>Company has responded to the consumer and the ...</td>\n      <td>Experian Information Solutions Inc.</td>\n      <td>PA</td>\n      <td>15206</td>\n      <td>NaN</td>\n      <td>Consent not provided</td>\n      <td>Web</td>\n      <td>2019-09-20</td>\n      <td>Closed with non-monetary relief</td>\n      <td>Yes</td>\n      <td>NaN</td>\n      <td>3379500</td>\n    </tr>\n    <tr>\n      <th>3</th>\n      <td>2019-11-08</td>\n      <td>Debt collection</td>\n      <td>I do not know</td>\n      <td>Communication tactics</td>\n      <td>Frequent or repeated calls</td>\n      <td>Over the past 2 weeks, I have been receiving e...</td>\n      <td>NaN</td>\n      <td>Diversified Consultants, Inc.</td>\n      <td>NC</td>\n      <td>275XX</td>\n      <td>NaN</td>\n      <td>Consent provided</td>\n      <td>Web</td>\n      <td>2019-11-08</td>\n      <td>Closed with explanation</td>\n      <td>Yes</td>\n      <td>NaN</td>\n      <td>3433198</td>\n    </tr>\n    <tr>\n      <th>4</th>\n      <td>2020-09-21</td>\n      <td>Debt collection</td>\n      <td>Credit card debt</td>\n      <td>Attempts to collect debt not owed</td>\n      <td>Debt is not yours</td>\n      <td>NaN</td>\n      <td>NaN</td>\n      <td>Resurgent Capital Services L.P.</td>\n      <td>MA</td>\n      <td>02124</td>\n      <td>NaN</td>\n      <td>NaN</td>\n      <td>Web</td>\n      <td>2020-09-21</td>\n      <td>Closed with explanation</td>\n      <td>Yes</td>\n      <td>NaN</td>\n      <td>3857820</td>\n    </tr>\n  </tbody>\n</table>\n</div>"
     },
     "metadata": {},
     "execution_count": 51
    }
   ],
   "source": [
    "df1.head()"
   ]
  },
  {
   "cell_type": "markdown",
   "metadata": {},
   "source": [
    "For our implementation, we use only the *Consumer complaint narrative* column, which we rename to *Complaint* and contains the textual information from the consumer complaints, and the *Product* column, which represents the financial products or services associated with a complaint."
   ]
  },
  {
   "cell_type": "code",
   "execution_count": 52,
   "metadata": {},
   "outputs": [],
   "source": [
    "df2 = df1[['Product', 'Consumer complaint narrative']]"
   ]
  },
  {
   "cell_type": "code",
   "execution_count": 53,
   "metadata": {},
   "outputs": [],
   "source": [
    "df2.columns = ['Product', \"Complaint\"]"
   ]
  },
  {
   "cell_type": "markdown",
   "metadata": {},
   "source": [
    "The dataset has approximately 1.4M rows, but a great portion of them has missing data in the *Complaint* column. Here we just drop all rows with missing data, and we end up with 472K rows."
   ]
  },
  {
   "cell_type": "code",
   "execution_count": 54,
   "metadata": {
    "scrolled": false
   },
   "outputs": [
    {
     "output_type": "execute_result",
     "data": {
      "text/plain": [
       "                                             Product  \\\n",
       "0                                    Debt collection   \n",
       "1                                    Debt collection   \n",
       "2  Credit reporting, credit repair services, or o...   \n",
       "3                                    Debt collection   \n",
       "4                                    Debt collection   \n",
       "\n",
       "                                           Complaint  \n",
       "0  transworld systems inc. \\nis trying to collect...  \n",
       "1                                                NaN  \n",
       "2                                                NaN  \n",
       "3  Over the past 2 weeks, I have been receiving e...  \n",
       "4                                                NaN  "
      ],
      "text/html": "<div>\n<style scoped>\n    .dataframe tbody tr th:only-of-type {\n        vertical-align: middle;\n    }\n\n    .dataframe tbody tr th {\n        vertical-align: top;\n    }\n\n    .dataframe thead th {\n        text-align: right;\n    }\n</style>\n<table border=\"1\" class=\"dataframe\">\n  <thead>\n    <tr style=\"text-align: right;\">\n      <th></th>\n      <th>Product</th>\n      <th>Complaint</th>\n    </tr>\n  </thead>\n  <tbody>\n    <tr>\n      <th>0</th>\n      <td>Debt collection</td>\n      <td>transworld systems inc. \\nis trying to collect...</td>\n    </tr>\n    <tr>\n      <th>1</th>\n      <td>Debt collection</td>\n      <td>NaN</td>\n    </tr>\n    <tr>\n      <th>2</th>\n      <td>Credit reporting, credit repair services, or o...</td>\n      <td>NaN</td>\n    </tr>\n    <tr>\n      <th>3</th>\n      <td>Debt collection</td>\n      <td>Over the past 2 weeks, I have been receiving e...</td>\n    </tr>\n    <tr>\n      <th>4</th>\n      <td>Debt collection</td>\n      <td>NaN</td>\n    </tr>\n  </tbody>\n</table>\n</div>"
     },
     "metadata": {},
     "execution_count": 54
    }
   ],
   "source": [
    "df2.head()"
   ]
  },
  {
   "cell_type": "code",
   "execution_count": 55,
   "metadata": {},
   "outputs": [
    {
     "output_type": "execute_result",
     "data": {
      "text/plain": [
       "(1782596, 2)"
      ]
     },
     "metadata": {},
     "execution_count": 55
    }
   ],
   "source": [
    "df2.shape"
   ]
  },
  {
   "cell_type": "code",
   "execution_count": 56,
   "metadata": {
    "scrolled": true
   },
   "outputs": [],
   "source": [
    "df2.dropna(inplace=True)"
   ]
  },
  {
   "cell_type": "code",
   "execution_count": 57,
   "metadata": {},
   "outputs": [
    {
     "output_type": "execute_result",
     "data": {
      "text/plain": [
       "(606211, 2)"
      ]
     },
     "metadata": {},
     "execution_count": 57
    }
   ],
   "source": [
    "df2.shape"
   ]
  },
  {
   "cell_type": "markdown",
   "metadata": {},
   "source": [
    "There are 18 distinct values for the *Product* column, but some of them are very underrepresented. Also, there is a lot of overlapping among them.\n",
    "\n",
    "We then consolidate the distinct values for the *Product* column into 6 distinct categories: *Credit Reporting*, *Debt Collection*, *Mortgage*, *Card Services*, *Loans*, and *Banking Services*."
   ]
  },
  {
   "cell_type": "code",
   "execution_count": 58,
   "metadata": {},
   "outputs": [
    {
     "output_type": "execute_result",
     "data": {
      "text/plain": [
       "Credit reporting, credit repair services, or other personal consumer reports    208537\n",
       "Debt collection                                                                 123335\n",
       "Mortgage                                                                         69464\n",
       "Credit card or prepaid card                                                      43274\n",
       "Credit reporting                                                                 31588\n",
       "Student loan                                                                     26969\n",
       "Checking or savings account                                                      25223\n",
       "Credit card                                                                      18838\n",
       "Bank account or service                                                          14885\n",
       "Money transfer, virtual currency, or money service                               11023\n",
       "Vehicle loan or lease                                                            10518\n",
       "Consumer Loan                                                                     9473\n",
       "Payday loan, title loan, or personal loan                                         8083\n",
       "Payday loan                                                                       1746\n",
       "Money transfers                                                                   1497\n",
       "Prepaid card                                                                      1450\n",
       "Other financial service                                                            292\n",
       "Virtual currency                                                                    16\n",
       "Name: Product, dtype: int64"
      ]
     },
     "metadata": {},
     "execution_count": 58
    }
   ],
   "source": [
    "df2['Product'].value_counts()"
   ]
  },
  {
   "cell_type": "code",
   "execution_count": 59,
   "metadata": {},
   "outputs": [],
   "source": [
    "df2.replace({'Product':\n",
    "             {'Credit reporting, credit repair services, or other personal consumer reports': 'Credit Reporting',\n",
    "              'Debt collection': 'Debt Collection',\n",
    "              'Credit reporting': 'Credit Reporting',\n",
    "              'Credit card': 'Card Services',\n",
    "              'Bank account or service': 'Banking Services',\n",
    "              'Credit card or prepaid card': 'Card Services',\n",
    "              'Student loan': 'Loans',\n",
    "              'Checking or savings account': 'Banking Services',\n",
    "              'Consumer Loan': 'Loans',\n",
    "              'Vehicle loan or lease': 'Loans',\n",
    "              'Money transfer, virtual currency, or money service': 'Banking Services',\n",
    "              'Payday loan, title loan, or personal loan': 'Loans',\n",
    "              'Payday loan': 'Loans',\n",
    "              'Money transfers': 'Banking Services',\n",
    "              'Prepaid card': 'Card Services',\n",
    "              'Other financial service': 'Other',\n",
    "              'Virtual currency': 'Banking Services'}\n",
    "            }, inplace= True)"
   ]
  },
  {
   "cell_type": "code",
   "execution_count": 60,
   "metadata": {},
   "outputs": [],
   "source": [
    "df2 = df2[df2['Product'] != 'Other']"
   ]
  },
  {
   "cell_type": "code",
   "execution_count": 61,
   "metadata": {
    "scrolled": true
   },
   "outputs": [
    {
     "output_type": "execute_result",
     "data": {
      "text/plain": [
       "                  Product\n",
       "Credit Reporting   240125\n",
       "Debt Collection    123335\n",
       "Mortgage            69464\n",
       "Card Services       63562\n",
       "Loans               56789\n",
       "Banking Services    52644"
      ],
      "text/html": "<div>\n<style scoped>\n    .dataframe tbody tr th:only-of-type {\n        vertical-align: middle;\n    }\n\n    .dataframe tbody tr th {\n        vertical-align: top;\n    }\n\n    .dataframe thead th {\n        text-align: right;\n    }\n</style>\n<table border=\"1\" class=\"dataframe\">\n  <thead>\n    <tr style=\"text-align: right;\">\n      <th></th>\n      <th>Product</th>\n    </tr>\n  </thead>\n  <tbody>\n    <tr>\n      <th>Credit Reporting</th>\n      <td>240125</td>\n    </tr>\n    <tr>\n      <th>Debt Collection</th>\n      <td>123335</td>\n    </tr>\n    <tr>\n      <th>Mortgage</th>\n      <td>69464</td>\n    </tr>\n    <tr>\n      <th>Card Services</th>\n      <td>63562</td>\n    </tr>\n    <tr>\n      <th>Loans</th>\n      <td>56789</td>\n    </tr>\n    <tr>\n      <th>Banking Services</th>\n      <td>52644</td>\n    </tr>\n  </tbody>\n</table>\n</div>"
     },
     "metadata": {},
     "execution_count": 61
    }
   ],
   "source": [
    "pd.DataFrame(df2['Product'].value_counts())"
   ]
  },
  {
   "cell_type": "markdown",
   "metadata": {},
   "source": [
    "We need to represent data as numeric values for the model. Here we create a new column *Product_Label* that encodes the information from the *Product* column into numeric values.\n",
    "\n",
    "We need to do something similar for the textual information from the *Complaint* column, but as this is dependent of the model architecture, this is done in the subsequent notebook."
   ]
  },
  {
   "cell_type": "code",
   "execution_count": 62,
   "metadata": {},
   "outputs": [],
   "source": [
    "from sklearn.preprocessing import LabelEncoder\n",
    "\n",
    "enc = LabelEncoder()\n",
    "df2['Product_Label'] = enc.fit_transform(df2['Product'])"
   ]
  },
  {
   "cell_type": "code",
   "execution_count": 63,
   "metadata": {
    "scrolled": true
   },
   "outputs": [
    {
     "output_type": "execute_result",
     "data": {
      "text/plain": [
       "             Product                                          Complaint  \\\n",
       "0    Debt Collection  transworld systems inc. \\nis trying to collect...   \n",
       "3    Debt Collection  Over the past 2 weeks, I have been receiving e...   \n",
       "8    Debt Collection  I received the email below, but I have never s...   \n",
       "9   Credit Reporting  i am a victim of identity theft as previously ...   \n",
       "11  Credit Reporting  Previously, on XX/XX/XXXX, XX/XX/XXXX, and XX/...   \n",
       "\n",
       "    Product_Label  \n",
       "0               3  \n",
       "3               3  \n",
       "8               3  \n",
       "9               2  \n",
       "11              2  "
      ],
      "text/html": "<div>\n<style scoped>\n    .dataframe tbody tr th:only-of-type {\n        vertical-align: middle;\n    }\n\n    .dataframe tbody tr th {\n        vertical-align: top;\n    }\n\n    .dataframe thead th {\n        text-align: right;\n    }\n</style>\n<table border=\"1\" class=\"dataframe\">\n  <thead>\n    <tr style=\"text-align: right;\">\n      <th></th>\n      <th>Product</th>\n      <th>Complaint</th>\n      <th>Product_Label</th>\n    </tr>\n  </thead>\n  <tbody>\n    <tr>\n      <th>0</th>\n      <td>Debt Collection</td>\n      <td>transworld systems inc. \\nis trying to collect...</td>\n      <td>3</td>\n    </tr>\n    <tr>\n      <th>3</th>\n      <td>Debt Collection</td>\n      <td>Over the past 2 weeks, I have been receiving e...</td>\n      <td>3</td>\n    </tr>\n    <tr>\n      <th>8</th>\n      <td>Debt Collection</td>\n      <td>I received the email below, but I have never s...</td>\n      <td>3</td>\n    </tr>\n    <tr>\n      <th>9</th>\n      <td>Credit Reporting</td>\n      <td>i am a victim of identity theft as previously ...</td>\n      <td>2</td>\n    </tr>\n    <tr>\n      <th>11</th>\n      <td>Credit Reporting</td>\n      <td>Previously, on XX/XX/XXXX, XX/XX/XXXX, and XX/...</td>\n      <td>2</td>\n    </tr>\n  </tbody>\n</table>\n</div>"
     },
     "metadata": {},
     "execution_count": 63
    }
   ],
   "source": [
    "df2.head()"
   ]
  },
  {
   "cell_type": "code",
   "execution_count": 64,
   "metadata": {},
   "outputs": [
    {
     "output_type": "execute_result",
     "data": {
      "text/plain": [
       "'Previously, on XX/XX/XXXX, XX/XX/XXXX, and XX/XX/XXXX I requested that Experian send me a copy of the verifiable proof they have on file showing that the XXXX account they have listed on my credit report is actually mine. On XX/XX/XXXX and XX/XX/XXXX, instead of sending me a copy of the verifiable proof that I requested, Experian sent me a statement which reads, \" The information you disputed has been verified as accurate. \\'\\' Experian also failed to provide me with the method of \" verification. \\'\\' Since Experian neither provided me with a copy of the verifiable proof, nor did they delete the unverified information, I believe they are in violation of the Fair Credit Reporting Act and I have been harmed as a result. I have again, today, sent my fourth and final written request that they verify the account, and send me verifiable proof that this account is mine, or that they delete the unverified account. If they do not, my next step is to pursue a remedy through litigation.'"
      ]
     },
     "metadata": {},
     "execution_count": 64
    }
   ],
   "source": [
    "df2.iloc[4]['Complaint']"
   ]
  },
  {
   "cell_type": "markdown",
   "metadata": {},
   "source": [
    "We can further preprocess the data, by trying to decrease the vocabulary size for the text. Here we perform a light text preprocessing, by removing punctuation, removing the masked information (*XXX…* patterns), removing extra spaces and finally normalize everything to lowercase."
   ]
  },
  {
   "cell_type": "code",
   "execution_count": 65,
   "metadata": {},
   "outputs": [],
   "source": [
    "import string\n",
    "\n",
    "table = str.maketrans(string.punctuation, ' '*len(string.punctuation))\n",
    "df2['Complaint'] = df2['Complaint'].str.translate(table)\n",
    "df2['Complaint'] = df2['Complaint'].str.replace('X+', '')\n",
    "df2['Complaint'] = df2['Complaint'].str.replace(' +', ' ')\n",
    "df2['Complaint'] = df2['Complaint'].str.lower()\n",
    "df2['Complaint'] = df2['Complaint'].str.strip()"
   ]
  },
  {
   "cell_type": "code",
   "execution_count": 66,
   "metadata": {
    "scrolled": false
   },
   "outputs": [
    {
     "output_type": "execute_result",
     "data": {
      "text/plain": [
       "'previously on and i requested that experian send me a copy of the verifiable proof they have on file showing that the account they have listed on my credit report is actually mine on and instead of sending me a copy of the verifiable proof that i requested experian sent me a statement which reads the information you disputed has been verified as accurate experian also failed to provide me with the method of verification since experian neither provided me with a copy of the verifiable proof nor did they delete the unverified information i believe they are in violation of the fair credit reporting act and i have been harmed as a result i have again today sent my fourth and final written request that they verify the account and send me verifiable proof that this account is mine or that they delete the unverified account if they do not my next step is to pursue a remedy through litigation'"
      ]
     },
     "metadata": {},
     "execution_count": 66
    }
   ],
   "source": [
    "df2.iloc[4]['Complaint']"
   ]
  },
  {
   "cell_type": "markdown",
   "metadata": {},
   "source": [
    "There is some text in the *Complaint* column that has 0 or very few words, which represents about 1,000 rows in the dataset. Here we consider the minimum of 5 words for the text to have some useful information."
   ]
  },
  {
   "cell_type": "code",
   "execution_count": 67,
   "metadata": {},
   "outputs": [
    {
     "output_type": "stream",
     "name": "stdout",
     "text": [
      "5958\n0\n"
     ]
    }
   ],
   "source": [
    "lengths = [len(df2.iloc[i]['Complaint'].split()) for i in range(len(df2))]\n",
    "print(max(lengths))\n",
    "print(min(lengths))"
   ]
  },
  {
   "cell_type": "code",
   "execution_count": 68,
   "metadata": {},
   "outputs": [],
   "source": [
    "df2 = df2[[l >= 5 for l in lengths]]"
   ]
  },
  {
   "cell_type": "code",
   "execution_count": 69,
   "metadata": {},
   "outputs": [
    {
     "output_type": "execute_result",
     "data": {
      "text/plain": [
       "(604719, 3)"
      ]
     },
     "metadata": {},
     "execution_count": 69
    }
   ],
   "source": [
    "df2.shape"
   ]
  },
  {
   "cell_type": "code",
   "execution_count": 70,
   "metadata": {},
   "outputs": [
    {
     "output_type": "execute_result",
     "data": {
      "text/plain": [
       "                  Product\n",
       "Credit Reporting   239250\n",
       "Debt Collection    123128\n",
       "Mortgage            69444\n",
       "Card Services       63532\n",
       "Loans               56759\n",
       "Banking Services    52606"
      ],
      "text/html": "<div>\n<style scoped>\n    .dataframe tbody tr th:only-of-type {\n        vertical-align: middle;\n    }\n\n    .dataframe tbody tr th {\n        vertical-align: top;\n    }\n\n    .dataframe thead th {\n        text-align: right;\n    }\n</style>\n<table border=\"1\" class=\"dataframe\">\n  <thead>\n    <tr style=\"text-align: right;\">\n      <th></th>\n      <th>Product</th>\n    </tr>\n  </thead>\n  <tbody>\n    <tr>\n      <th>Credit Reporting</th>\n      <td>239250</td>\n    </tr>\n    <tr>\n      <th>Debt Collection</th>\n      <td>123128</td>\n    </tr>\n    <tr>\n      <th>Mortgage</th>\n      <td>69444</td>\n    </tr>\n    <tr>\n      <th>Card Services</th>\n      <td>63532</td>\n    </tr>\n    <tr>\n      <th>Loans</th>\n      <td>56759</td>\n    </tr>\n    <tr>\n      <th>Banking Services</th>\n      <td>52606</td>\n    </tr>\n  </tbody>\n</table>\n</div>"
     },
     "metadata": {},
     "execution_count": 70
    }
   ],
   "source": [
    "pd.DataFrame(df2['Product'].value_counts())"
   ]
  },
  {
   "cell_type": "markdown",
   "metadata": {},
   "source": [
    "We then save the preprocessed dataset, and another one corresponding to a 10% sample."
   ]
  },
  {
   "cell_type": "code",
   "execution_count": 71,
   "metadata": {},
   "outputs": [],
   "source": [
    "#df2.to_csv('./data/consumer_complaint_data_prepared.csv', index=False)\n",
    "\n",
    "# only top several\n",
    "df2.head(100).to_csv('E:/azure_ml_notebook/azureml_data/complaints_after.tsv', sep='\\t', index=None)"
   ]
  },
  {
   "cell_type": "code",
   "execution_count": 72,
   "metadata": {},
   "outputs": [],
   "source": [
    "#\n",
    "#df2.sample(n=int(len(df2)*0.1), random_state=111).to_csv('./data/#consumer_complaint_data_sample_prepared.csv', index=False)\n",
    "\n",
    "df2.sample(n=100, random_state=111).to_csv('E:/azure_ml_notebook/azureml_data/complaints_sampled_after.csv', index=False)\n"
   ]
  }
 ],
 "metadata": {
  "kernelspec": {
   "name": "Python 3.6.10 64-bit ('azureml': conda)",
   "display_name": "Python 3.6.10 64-bit ('azureml': conda)",
   "metadata": {
    "interpreter": {
     "hash": "ba5bd753e910e6b4df4442810e6092fe05721c77cdd1c6bf6d0b31b511b9d576"
    }
   }
  },
  "language_info": {
   "codemirror_mode": {
    "name": "ipython",
    "version": 3
   },
   "file_extension": ".py",
   "mimetype": "text/x-python",
   "name": "python",
   "nbconvert_exporter": "python",
   "pygments_lexer": "ipython3",
   "version": "3.6.10-final"
  }
 },
 "nbformat": 4,
 "nbformat_minor": 2
}